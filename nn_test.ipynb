{
 "metadata": {
  "language_info": {
   "codemirror_mode": {
    "name": "ipython",
    "version": 3
   },
   "file_extension": ".py",
   "mimetype": "text/x-python",
   "name": "python",
   "nbconvert_exporter": "python",
   "pygments_lexer": "ipython3",
   "version": "3.8.8-final"
  },
  "orig_nbformat": 2,
  "kernelspec": {
   "name": "python3",
   "display_name": "Python 3.8.8 64-bit",
   "metadata": {
    "interpreter": {
     "hash": "aee8b7b246df8f9039afb4144a1f6fd8d2ca17a180786b69acc140d282b71a49"
    }
   }
  }
 },
 "nbformat": 4,
 "nbformat_minor": 2,
 "cells": [
  {
   "cell_type": "code",
   "execution_count": 1,
   "metadata": {},
   "outputs": [
    {
     "output_type": "stream",
     "name": "stdout",
     "text": [
      "Net(\n  (conv1): Conv2d(1, 6, kernel_size=(3, 3), stride=(1, 1))\n  (conv2): Conv2d(6, 16, kernel_size=(3, 3), stride=(1, 1))\n  (fc1): Linear(in_features=576, out_features=120, bias=True)\n  (fc2): Linear(in_features=120, out_features=84, bias=True)\n  (fc3): Linear(in_features=84, out_features=10, bias=True)\n)\n"
     ]
    }
   ],
   "source": [
    "import torch\n",
    "import torch.nn as nn\n",
    "import torch.nn.functional as F\n",
    "\n",
    "class Net(nn.Module):\n",
    "\n",
    "    def __init__(self):\n",
    "        super(Net, self).__init__()\n",
    "        # 1 input image channel, 6 output channels, 3x3 square convolution\n",
    "        # kernel\n",
    "        self.conv1 = nn.Conv2d(1, 6, 3)\n",
    "        self.conv2 = nn.Conv2d(6, 16, 3)\n",
    "        # an affine operation: y = Wx + b\n",
    "        self.fc1 = nn.Linear(16 * 6 * 6, 120)  # 6*6 from image dimension\n",
    "        self.fc2 = nn.Linear(120, 84)\n",
    "        self.fc3 = nn.Linear(84, 10)\n",
    "\n",
    "    def forward(self, x):\n",
    "        # Max pooling over a (2, 2) window\n",
    "        x = F.max_pool2d(F.relu(self.conv1(x)), (2, 2))\n",
    "        # If the size is a square you can only specify a single number\n",
    "        x = F.max_pool2d(F.relu(self.conv2(x)), 2)\n",
    "        x = x.view(-1, self.num_flat_features(x))\n",
    "        x = F.relu(self.fc1(x))\n",
    "        x = F.relu(self.fc2(x))\n",
    "        x = self.fc3(x)\n",
    "        return x\n",
    "\n",
    "    def num_flat_features(self, x):\n",
    "        size = x.size()[1:]  # all dimensions except the batch dimension\n",
    "        num_features = 1\n",
    "        for s in size:\n",
    "            num_features *= s\n",
    "        return num_features\n",
    "\n",
    "net = Net()\n",
    "print(net)"
   ]
  },
  {
   "cell_type": "code",
   "execution_count": 8,
   "metadata": {},
   "outputs": [
    {
     "output_type": "execute_result",
     "data": {
      "text/plain": [
       "Parameter containing:\n",
       "tensor([[[[-8.7834e-02, -2.4357e-01, -8.4748e-02],\n",
       "          [-2.0933e-04, -1.9281e-01,  2.9978e-01],\n",
       "          [ 5.1785e-02,  1.5465e-01,  1.7215e-02]]],\n",
       "\n",
       "\n",
       "        [[[-1.2440e-01, -1.1558e-01, -9.3205e-02],\n",
       "          [ 1.8206e-01,  8.6198e-02,  3.2542e-01],\n",
       "          [-1.1322e-01, -2.2042e-01, -2.8049e-01]]],\n",
       "\n",
       "\n",
       "        [[[ 1.4444e-01, -3.0604e-01,  2.1094e-01],\n",
       "          [-6.4041e-02,  5.7926e-02, -2.9989e-01],\n",
       "          [ 7.7765e-02, -1.0225e-03,  8.0155e-02]]],\n",
       "\n",
       "\n",
       "        [[[-1.2987e-01,  1.5402e-01,  6.7604e-02],\n",
       "          [ 8.5536e-02,  3.1709e-01, -2.4810e-01],\n",
       "          [ 8.5445e-02, -2.9215e-01, -2.8064e-01]]],\n",
       "\n",
       "\n",
       "        [[[-2.3057e-01,  2.7310e-01, -2.0392e-01],\n",
       "          [ 2.1945e-01, -2.8142e-01,  2.6458e-01],\n",
       "          [ 5.6181e-02, -2.7568e-01,  2.6646e-01]]],\n",
       "\n",
       "\n",
       "        [[[-1.8025e-01,  9.9606e-03, -2.4173e-01],\n",
       "          [-7.9618e-02, -1.5417e-01,  6.3346e-02],\n",
       "          [ 3.0581e-02, -5.3268e-02,  2.7574e-01]]]], requires_grad=True)"
      ]
     },
     "metadata": {},
     "execution_count": 8
    }
   ],
   "source": [
    "list(net.parameters())[0]"
   ]
  },
  {
   "cell_type": "code",
   "execution_count": 9,
   "metadata": {},
   "outputs": [
    {
     "output_type": "execute_result",
     "data": {
      "text/plain": [
       "tensor([[-0.0405,  0.1092, -0.0095,  0.0579, -0.0506, -0.1690, -0.1357, -0.0206,\n",
       "         -0.1228, -0.0069]], grad_fn=<AddmmBackward>)"
      ]
     },
     "metadata": {},
     "execution_count": 9
    }
   ],
   "source": [
    "inp = torch.randn(1,1,32,32)\n",
    "out = net(inp)\n",
    "out"
   ]
  },
  {
   "cell_type": "code",
   "execution_count": 18,
   "metadata": {},
   "outputs": [
    {
     "output_type": "stream",
     "name": "stdout",
     "text": [
      "None\n"
     ]
    }
   ],
   "source": [
    "print(list(net.parameters())[0].grad)"
   ]
  },
  {
   "cell_type": "code",
   "execution_count": 19,
   "metadata": {},
   "outputs": [
    {
     "output_type": "stream",
     "name": "stdout",
     "text": [
      "None\n"
     ]
    }
   ],
   "source": [
    "net.zero_grad()\n",
    "print(list(net.parameters())[0].grad)\n"
   ]
  },
  {
   "cell_type": "code",
   "execution_count": 23,
   "metadata": {},
   "outputs": [
    {
     "output_type": "stream",
     "name": "stdout",
     "text": [
      "tensor([[[[-0.1126, -0.1494,  0.0310],\n          [-0.0322, -0.1467,  0.0929],\n          [ 0.0210,  0.0844,  0.0066]]],\n\n\n        [[[ 0.0129,  0.0668, -0.0654],\n          [-0.0799,  0.0328, -0.1382],\n          [-0.0206,  0.0084,  0.1162]]],\n\n\n        [[[ 0.0312,  0.0235,  0.0566],\n          [ 0.0345, -0.1269, -0.0261],\n          [ 0.0453,  0.0543,  0.0100]]],\n\n\n        [[[ 0.0739, -0.1061, -0.0844],\n          [ 0.0124, -0.1925,  0.1466],\n          [ 0.0403,  0.0466,  0.1065]]],\n\n\n        [[[-0.0239,  0.0114,  0.0576],\n          [ 0.0430,  0.0811, -0.1137],\n          [ 0.0393,  0.0197,  0.0424]]],\n\n\n        [[[ 0.0236,  0.0008, -0.1074],\n          [-0.0530,  0.0173,  0.0455],\n          [-0.0294,  0.0035,  0.0688]]]])\n"
     ]
    }
   ],
   "source": [
    "out.backward(torch.randn(1, 10))\n",
    "print(list(net.parameters())[0].grad)\n"
   ]
  },
  {
   "cell_type": "code",
   "execution_count": 44,
   "metadata": {},
   "outputs": [
    {
     "output_type": "stream",
     "name": "stdout",
     "text": [
      "tensor(0.6730, grad_fn=<MseLossBackward>)\n"
     ]
    }
   ],
   "source": [
    "output = net(inp)\n",
    "target = torch.randn(10)  # a dummy target, for example\n",
    "target = target.view(1, -1)  # make it the same shape as output\n",
    "\n",
    "criterion = nn.MSELoss()\n",
    "loss = criterion(output, target)\n",
    "print(loss)"
   ]
  },
  {
   "cell_type": "code",
   "execution_count": 46,
   "metadata": {},
   "outputs": [
    {
     "output_type": "stream",
     "name": "stdout",
     "text": [
      "conv1.bias.grad before backward\ntensor([0., 0., 0., 0., 0., 0.])\nconv1.bias.grad after backward\ntensor([ 0.0006, -0.0201, -0.0059,  0.0094, -0.0216, -0.0148])\n"
     ]
    }
   ],
   "source": [
    "net.zero_grad()     # zeroes the gradient buffers of all parameters\n",
    "\n",
    "print('conv1.bias.grad before backward')\n",
    "print(net.conv1.bias.grad)\n",
    "\n",
    "loss.backward()\n",
    "\n",
    "print('conv1.bias.grad after backward')\n",
    "print(net.conv1.bias.grad)"
   ]
  },
  {
   "cell_type": "code",
   "execution_count": 181,
   "metadata": {},
   "outputs": [
    {
     "output_type": "stream",
     "name": "stdout",
     "text": [
      "tensor([0., 0., 0., 0., 0., 0.])\ntensor([-4.2362e-04,  1.9571e-05,  0.0000e+00,  9.8025e-04,  0.0000e+00,\n         0.0000e+00])\n"
     ]
    }
   ],
   "source": [
    "import torch.optim as optim\n",
    "\n",
    "# create your optimizer\n",
    "optimizer = optim.SGD(net.parameters(), lr=0.01)\n",
    "\n",
    "# in your training loop:\n",
    "optimizer.zero_grad()   # zero the gradient buffers\n",
    "print(net.conv1.bias.grad)\n",
    "output = net(inp)\n",
    "loss = criterion(output, target)\n",
    "loss.backward()\n",
    "\n",
    "optimizer.step()    # Does the update\n",
    "\n",
    "\n",
    "print(net.conv1.bias.grad)"
   ]
  },
  {
   "cell_type": "code",
   "execution_count": null,
   "metadata": {},
   "outputs": [],
   "source": []
  },
  {
   "cell_type": "code",
   "execution_count": null,
   "metadata": {},
   "outputs": [],
   "source": []
  }
 ]
}