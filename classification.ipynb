{
 "metadata": {
  "language_info": {
   "codemirror_mode": {
    "name": "ipython",
    "version": 3
   },
   "file_extension": ".py",
   "mimetype": "text/x-python",
   "name": "python",
   "nbconvert_exporter": "python",
   "pygments_lexer": "ipython3",
   "version": "3.8.8"
  },
  "orig_nbformat": 2,
  "kernelspec": {
   "name": "python3",
   "language": "python",
   "display_name": "Python 3"
  }
 },
 "nbformat": 4,
 "nbformat_minor": 2,
 "cells": [
  {
   "cell_type": "code",
   "execution_count": 1,
   "metadata": {},
   "outputs": [],
   "source": [
    "import torch"
   ]
  },
  {
   "cell_type": "code",
   "execution_count": 2,
   "metadata": {},
   "outputs": [],
   "source": [
    "w1, b1 = torch.randn(200, 784, requires_grad=True), torch.zeros(200, requires_grad=True)\n",
    "w2, b2 = torch.randn(200, 200, requires_grad=True), torch.zeros(200, requires_grad=True)\n",
    "w3, b3 = torch.randn(10, 200, requires_grad=True), torch.zeros(10, requires_grad=True)"
   ]
  },
  {
   "cell_type": "code",
   "execution_count": 3,
   "metadata": {},
   "outputs": [],
   "source": [
    "import torch.nn.functional as F\n",
    "\n",
    "def forward(x):\n",
    "    x = x @w1.t() + b1\n",
    "    x = F.relu(x)\n",
    "    x = x @w2.t() + b2\n",
    "    x = F.relu(x)\n",
    "    x = x @w3.t() + b3\n",
    "    return x\n"
   ]
  },
  {
   "cell_type": "code",
   "execution_count": 4,
   "metadata": {},
   "outputs": [],
   "source": [
    "\n",
    "optimizer = torch.optim.SGD([w1,b1,w2,b2,w3,b3], lr=0.001)\n",
    "criteon = torch.nn.CrossEntropyLoss()\n",
    "\n"
   ]
  },
  {
   "cell_type": "code",
   "execution_count": 16,
   "metadata": {},
   "outputs": [],
   "source": [
    "import torchvision\n",
    "\n",
    "train_loader = torch.utils.data.DataLoader(\n",
    "    torchvision.datasets.MNIST('data', train=True,\n",
    "    download=True,\n",
    "    transform=torchvision.transforms.ToTensor())\n",
    ")\n",
    "\n",
    "test_loader = torch.utils.data.DataLoader(\n",
    "    torchvision.datasets.MNIST('data', train=False,\n",
    "    download=True,\n",
    "    transform=torchvision.transforms.ToTensor())\n",
    ")"
   ]
  },
  {
   "cell_type": "code",
   "execution_count": 13,
   "metadata": {},
   "outputs": [
    {
     "data": {
      "text/plain": "<torch.utils.data.dataloader.DataLoader at 0x7fe8b7f67b80>"
     },
     "execution_count": 13,
     "metadata": {},
     "output_type": "execute_result"
    }
   ],
   "source": [
    "train_loader"
   ]
  },
  {
   "cell_type": "code",
   "execution_count": null,
   "metadata": {},
   "outputs": [],
   "source": []
  },
  {
   "cell_type": "code",
   "execution_count": null,
   "metadata": {},
   "outputs": [],
   "source": []
  },
  {
   "cell_type": "code",
   "execution_count": null,
   "metadata": {},
   "outputs": [],
   "source": []
  },
  {
   "cell_type": "code",
   "execution_count": 17,
   "metadata": {},
   "outputs": [
    {
     "name": "stdout",
     "output_type": "stream",
     "text": [
      "epoch:0 item:0 Loss:0.6365978717803955\n",
      "epoch:0 item:10000 Loss:0.05058550089597702\n",
      "epoch:0 item:20000 Loss:1.4185804502631072e-05\n",
      "epoch:0 item:30000 Loss:0.07364100217819214\n",
      "epoch:0 item:40000 Loss:0.0\n",
      "epoch:0 item:50000 Loss:1.9073304429184645e-05\n",
      "epoch:1 item:0 Loss:0.007360128220170736\n",
      "epoch:1 item:10000 Loss:0.00035470392322167754\n",
      "epoch:1 item:20000 Loss:4.6491513785440475e-06\n",
      "epoch:1 item:30000 Loss:3.683499380713329e-05\n",
      "epoch:1 item:40000 Loss:0.0\n",
      "epoch:1 item:50000 Loss:1.5497195136049413e-06\n"
     ]
    }
   ],
   "source": [
    "for epoch in range(2):\n",
    "    for batch_index, (data, target) in enumerate(train_loader):\n",
    "        data = data.view(-1, 28*28)\n",
    "        logits = forward(data)\n",
    "        loss = criteon(logits, target)\n",
    "\n",
    "        optimizer.zero_grad()\n",
    "        loss.backward()\n",
    "\n",
    "        optimizer.step()\n",
    "\n",
    "        if batch_index%10000 ==0 :\n",
    "            print(\"epoch:{} item:{} Loss:{}\".format(epoch,batch_index,b loss.item()))"
   ]
  },
  {
   "cell_type": "code",
   "execution_count": 19,
   "outputs": [
    {
     "name": "stdout",
     "output_type": "stream",
     "text": [
      "loss:4.529942543740617e-10 accuracy:8142/10000 (0.8141999840736389)\n"
     ]
    }
   ],
   "source": [
    "test_loss = 0\n",
    "correct = 0\n",
    "for data,target in test_loader:\n",
    "    data = data.view(-1, 28*28)\n",
    "    logits = forward(data)\n",
    "    test_loss = criteon(logits, target).item()\n",
    "    pred = logits.data.max(1)[1]\n",
    "    correct += pred.eq(target.data).sum()\n",
    "test_loss /= len(test_loader)\n",
    "print(\"loss:{} accuracy:{}/{} ({})\".format(test_loss, correct, len(test_loader), correct/len(test_loader)))"
   ],
   "metadata": {
    "collapsed": false,
    "pycharm": {
     "name": "#%%\n"
    }
   }
  },
  {
   "cell_type": "code",
   "execution_count": null,
   "outputs": [],
   "source": [],
   "metadata": {
    "collapsed": false,
    "pycharm": {
     "name": "#%%\n"
    }
   }
  }
 ]
}