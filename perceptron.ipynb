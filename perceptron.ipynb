{
 "metadata": {
  "language_info": {
   "codemirror_mode": {
    "name": "ipython",
    "version": 3
   },
   "file_extension": ".py",
   "mimetype": "text/x-python",
   "name": "python",
   "nbconvert_exporter": "python",
   "pygments_lexer": "ipython3",
   "version": "3.8.8-final"
  },
  "orig_nbformat": 2,
  "kernelspec": {
   "name": "python3",
   "display_name": "Python 3.8.8 64-bit",
   "metadata": {
    "interpreter": {
     "hash": "aee8b7b246df8f9039afb4144a1f6fd8d2ca17a180786b69acc140d282b71a49"
    }
   }
  }
 },
 "nbformat": 4,
 "nbformat_minor": 2,
 "cells": [
  {
   "source": [
    "# perceptron"
   ],
   "cell_type": "markdown",
   "metadata": {}
  },
  {
   "cell_type": "code",
   "execution_count": 6,
   "metadata": {},
   "outputs": [],
   "source": [
    "import torch\n",
    "from torch.nn import functional as F "
   ]
  },
  {
   "cell_type": "code",
   "execution_count": 11,
   "metadata": {},
   "outputs": [
    {
     "output_type": "execute_result",
     "data": {
      "text/plain": [
       "tensor([[ 1.2489,  1.5276,  1.0413, -1.2716,  1.0283, -0.9990, -0.6769,  0.2925,\n",
       "         -1.6257,  0.2720]])"
      ]
     },
     "metadata": {},
     "execution_count": 11
    }
   ],
   "source": [
    "x = torch.randn(1, 10)\n",
    "x"
   ]
  },
  {
   "cell_type": "code",
   "execution_count": 12,
   "metadata": {},
   "outputs": [
    {
     "output_type": "execute_result",
     "data": {
      "text/plain": [
       "tensor([[-1.7138, -0.4883, -0.7842, -0.7603, -0.7296,  1.9137, -1.4743,  0.8976,\n",
       "         -0.0138,  0.7564]], requires_grad=True)"
      ]
     },
     "metadata": {},
     "execution_count": 12
    }
   ],
   "source": [
    "w = torch.randn(1, 10).requires_grad_()\n",
    "w"
   ]
  },
  {
   "cell_type": "code",
   "execution_count": 15,
   "metadata": {},
   "outputs": [
    {
     "output_type": "execute_result",
     "data": {
      "text/plain": [
       "tensor([[0.1052],\n",
       "        [0.3217],\n",
       "        [0.3065],\n",
       "        [0.7245],\n",
       "        [0.3208],\n",
       "        [0.1288],\n",
       "        [0.7306],\n",
       "        [0.5653],\n",
       "        [0.5056],\n",
       "        [0.5512]], grad_fn=<SigmoidBackward>)"
      ]
     },
     "metadata": {},
     "execution_count": 15
    }
   ],
   "source": [
    "o = torch.sigmoid(x.mul(w).t())\n",
    "o"
   ]
  },
  {
   "cell_type": "code",
   "execution_count": 17,
   "metadata": {},
   "outputs": [
    {
     "output_type": "execute_result",
     "data": {
      "text/plain": [
       "tensor(0.3745, grad_fn=<MseLossBackward>)"
      ]
     },
     "metadata": {},
     "execution_count": 17
    }
   ],
   "source": [
    "loss = F.mse_loss(torch.ones(10,1), o)\n",
    "loss"
   ]
  },
  {
   "cell_type": "code",
   "execution_count": 18,
   "metadata": {},
   "outputs": [],
   "source": [
    "loss.backward()"
   ]
  },
  {
   "cell_type": "code",
   "execution_count": 19,
   "metadata": {},
   "outputs": [
    {
     "output_type": "execute_result",
     "data": {
      "text/plain": [
       "tensor([[-0.0210, -0.0452, -0.0307,  0.0140, -0.0304,  0.0195,  0.0072, -0.0063,\n",
       "          0.0402, -0.0060]])"
      ]
     },
     "metadata": {},
     "execution_count": 19
    }
   ],
   "source": [
    "w.grad"
   ]
  },
  {
   "cell_type": "code",
   "execution_count": 20,
   "metadata": {},
   "outputs": [
    {
     "output_type": "execute_result",
     "data": {
      "text/plain": [
       "tensor([[-1.7138, -0.4882, -0.7842, -0.7604, -0.7296,  1.9136, -1.4743,  0.8976,\n",
       "         -0.0138,  0.7564]], grad_fn=<SubBackward0>)"
      ]
     },
     "metadata": {},
     "execution_count": 20
    }
   ],
   "source": [
    "w = w - 0.001*w.grad\n",
    "w"
   ]
  },
  {
   "source": [
    "# 2dim"
   ],
   "cell_type": "markdown",
   "metadata": {}
  },
  {
   "cell_type": "code",
   "execution_count": 31,
   "metadata": {},
   "outputs": [
    {
     "output_type": "execute_result",
     "data": {
      "text/plain": [
       "tensor([[0.9207, 0.7551, 0.2838, 0.4564, 0.0722, 0.9858, 0.4710, 0.4593, 0.9837,\n",
       "         0.6932],\n",
       "        [0.4991, 0.5589, 0.4842, 0.0146, 0.5032, 0.5601, 0.7340, 0.3843, 0.3013,\n",
       "         0.1958]], requires_grad=True)"
      ]
     },
     "metadata": {},
     "execution_count": 31
    }
   ],
   "source": [
    "x = torch.rand(1,10)\n",
    "w = torch.rand(2,10).requires_grad_()\n",
    "w"
   ]
  },
  {
   "cell_type": "code",
   "execution_count": 32,
   "metadata": {},
   "outputs": [
    {
     "output_type": "execute_result",
     "data": {
      "text/plain": [
       "tensor([[0.7139, 0.6214],\n",
       "        [0.6630, 0.6227],\n",
       "        [0.5361, 0.5614],\n",
       "        [0.5729, 0.5023],\n",
       "        [0.5026, 0.5180],\n",
       "        [0.7097, 0.6243],\n",
       "        [0.5953, 0.6459],\n",
       "        [0.5337, 0.5282],\n",
       "        [0.5402, 0.5123],\n",
       "        [0.5946, 0.5270]], grad_fn=<SigmoidBackward>)"
      ]
     },
     "metadata": {},
     "execution_count": 32
    }
   ],
   "source": [
    "o = torch.sigmoid(x.mul(w).t())\n",
    "o"
   ]
  },
  {
   "cell_type": "code",
   "execution_count": 33,
   "metadata": {},
   "outputs": [
    {
     "output_type": "execute_result",
     "data": {
      "text/plain": [
       "tensor(0.1795, grad_fn=<MseLossBackward>)"
      ]
     },
     "metadata": {},
     "execution_count": 33
    }
   ],
   "source": [
    "loss = F.mse_loss(torch.ones_like(o),o)\n",
    "loss"
   ]
  },
  {
   "cell_type": "code",
   "execution_count": 34,
   "metadata": {},
   "outputs": [
    {
     "output_type": "execute_result",
     "data": {
      "text/plain": [
       "tensor([[-0.0058, -0.0067, -0.0059, -0.0067, -0.0018, -0.0054, -0.0080, -0.0034,\n",
       "         -0.0019, -0.0054],\n",
       "        [-0.0088, -0.0079, -0.0055, -0.0080, -0.0017, -0.0080, -0.0066, -0.0035,\n",
       "         -0.0020, -0.0065]])"
      ]
     },
     "metadata": {},
     "execution_count": 34
    }
   ],
   "source": [
    "loss.backward()\n",
    "w.grad"
   ]
  }
 ]
}